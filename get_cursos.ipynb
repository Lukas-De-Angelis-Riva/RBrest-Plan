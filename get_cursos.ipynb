{
 "cells": [
  {
   "cell_type": "code",
   "execution_count": 1,
   "id": "amber-brown",
   "metadata": {},
   "outputs": [],
   "source": [
    "import pandas as pd\n",
    "import json"
   ]
  },
  {
   "cell_type": "code",
   "execution_count": 2,
   "id": "actual-store",
   "metadata": {},
   "outputs": [
    {
     "data": {
      "text/plain": [
       "'h'"
      ]
     },
     "execution_count": 2,
     "metadata": {},
     "output_type": "execute_result"
    }
   ],
   "source": [
    "\"hola\"[0]"
   ]
  },
  {
   "cell_type": "code",
   "execution_count": 3,
   "id": "removable-universe",
   "metadata": {},
   "outputs": [],
   "source": [
    "def add_type(codigo_comision):\n",
    "    if(codigo_comision[0] != 'M' and codigo_comision[0] != 'T'):\n",
    "        codigo_comision = 'M' + codigo_comision # Lamentablemente no tengo forma de saber si es M o T...\n",
    "    return codigo_comision\n",
    "def get_data():\n",
    "    GSPREADHSEET_DOWNLOAD_URL = (\n",
    "        \"https://docs.google.com/spreadsheets/d/{gid}/export?format=csv&id={gid}\".format\n",
    "    )\n",
    "    GID = '10ztDqFAi2HvbZNtOkGXK6dy-M22lXJkc6KHvpxVyOYQ'\n",
    "    df = pd.read_csv(GSPREADHSEET_DOWNLOAD_URL(gid=GID))\n",
    "    del df[\"Turno\"]\n",
    "    del df[\"Cupo\"]\n",
    "    df['Comisión'] = df[\"Comisión\"].apply(add_type)\n",
    "    return df.dropna()"
   ]
  },
  {
   "cell_type": "code",
   "execution_count": 4,
   "id": "appointed-programming",
   "metadata": {},
   "outputs": [],
   "source": [
    "def normalize_day(s):\n",
    "    replacements = (\n",
    "        (\"á\", \"a\"),\n",
    "        (\"é\", \"e\"),\n",
    "        (\"í\", \"i\"),\n",
    "        (\"ó\", \"o\"),\n",
    "        (\"ú\", \"u\"),\n",
    "    )\n",
    "    s = s.lower()\n",
    "    for a, b in replacements:\n",
    "        s = s.replace(a, b)\n",
    "    return s\n",
    "def nday(s):\n",
    "    if s is None:\n",
    "        return 0\n",
    "    nday_dict = {'lunes':1, 'martes':2, 'miercoles':3, 'jueves':4, 'viernes':5, 'sabado':6}\n",
    "    return nday_dict[normalize_day(s)]"
   ]
  },
  {
   "cell_type": "code",
   "execution_count": 5,
   "id": "peripheral-arabic",
   "metadata": {},
   "outputs": [],
   "source": [
    "df = get_data()"
   ]
  },
  {
   "cell_type": "code",
   "execution_count": 6,
   "id": "ambient-acting",
   "metadata": {},
   "outputs": [],
   "source": [
    "def get_horario():\n",
    "    horarios = df[\"Dia\"].str.split(' ', expand=True).drop([3,8], axis=1)\n",
    "    horarios.set_axis(['tipo_1', 'dia_1', 'base_1', 'tope_1',\n",
    "                       'tipo_2', 'dia_2', 'base_2', 'tope_2'], \n",
    "                    axis='columns', inplace=True)\n",
    "    horarios['dia_1'] = horarios['dia_1'].apply(nday)\n",
    "    horarios['dia_2'] = horarios['dia_2'].apply(nday)\n",
    "    return horarios"
   ]
  },
  {
   "cell_type": "code",
   "execution_count": 7,
   "id": "sound-playback",
   "metadata": {},
   "outputs": [],
   "source": [
    "horarios = get_horario()\n",
    "del df['Dia']"
   ]
  },
  {
   "cell_type": "code",
   "execution_count": 8,
   "id": "handy-replica",
   "metadata": {},
   "outputs": [],
   "source": [
    "df = df.join(horarios)"
   ]
  },
  {
   "cell_type": "code",
   "execution_count": 9,
   "id": "amazing-bleeding",
   "metadata": {},
   "outputs": [],
   "source": [
    "def format_clases(clases, row):\n",
    "    clases.append({\"dia\": row[\"dia_1\"],\n",
    "                   \"inicio\": row[\"base_1\"],\n",
    "                   \"fin\": row[\"tope_1\"]})\n",
    "    if(row[\"dia_2\"] != 0):\n",
    "        clases.append({\"dia\": row[\"dia_2\"],\n",
    "               \"inicio\": row[\"base_2\"],\n",
    "               \"fin\": row[\"tope_2\"]})\n",
    "    return clases\n",
    "\n",
    "def format_materia(cursos, row):\n",
    "    cursos.append({ \"codigo\": row[\"Comisión\"],\n",
    "                    \"materia\": row[\"Comisión\"].split(\"-\")[0],\n",
    "                    \"docentes\": row[\"Docente\"]+' - '+row[\"Comisión\"].split(\"-\")[2],\n",
    "                    \"clases\": format_clases([], row)})\n",
    "    return cursos"
   ]
  },
  {
   "cell_type": "code",
   "execution_count": 10,
   "id": "postal-indie",
   "metadata": {
    "scrolled": true
   },
   "outputs": [],
   "source": [
    "DATA = {\n",
    "    \"cuatrimestre\": \"2C2022\",\n",
    "    \"timestamp\": 0,\n",
    "}\n",
    "DATA[\"materias\"] = []\n",
    "DATA[\"cursos\"] = []\n",
    "\n",
    "for index, row in df.iterrows():\n",
    "    format_materia(DATA[\"cursos\"], row)\n",
    "\n",
    "for materia in df[\"Actividad / Materia\"].unique():\n",
    "    cursos = list(df[df[\"Actividad / Materia\"] == materia][\"Comisión\"].values)\n",
    "    cod = cursos[0].split(\"-\")[0]\n",
    "    DATA[\"materias\"].append({\"codigo\": cod,\n",
    "                             \"cursos\": cursos,\n",
    "                             \"nombre\": materia})"
   ]
  },
  {
   "cell_type": "code",
   "execution_count": 11,
   "id": "handled-pipeline",
   "metadata": {},
   "outputs": [],
   "source": [
    "dump = json.dumps(DATA, indent=2, ensure_ascii=False, sort_keys=True)\n",
    "with open('src/data/horarios.js', 'w') as fw:\n",
    "    fw.write(\"export const data = \")\n",
    "    fw.write(\"\\n\") # Do not remove me. Make me easy to parse.\n",
    "    fw.write(dump)    "
   ]
  }
 ],
 "metadata": {
  "kernelspec": {
   "display_name": "Python 3",
   "language": "python",
   "name": "python3"
  },
  "language_info": {
   "codemirror_mode": {
    "name": "ipython",
    "version": 3
   },
   "file_extension": ".py",
   "mimetype": "text/x-python",
   "name": "python",
   "nbconvert_exporter": "python",
   "pygments_lexer": "ipython3",
   "version": "3.8.10"
  }
 },
 "nbformat": 4,
 "nbformat_minor": 5
}
